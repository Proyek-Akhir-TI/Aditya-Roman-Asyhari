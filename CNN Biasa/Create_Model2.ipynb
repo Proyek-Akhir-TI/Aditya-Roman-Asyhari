{
  "nbformat": 4,
  "nbformat_minor": 0,
  "metadata": {
    "colab": {
      "name": "Create_Model2.ipynb",
      "provenance": [],
      "collapsed_sections": []
    },
    "kernelspec": {
      "name": "python3",
      "display_name": "Python 3"
    }
  },
  "cells": [
    {
      "cell_type": "code",
      "metadata": {
        "id": "7YO2lr269-u3"
      },
      "source": [
        "import tensorflow as tf\n",
        "from tensorflow import keras\n",
        "from tensorflow.keras import layers, Sequential\n",
        "from tensorflow.keras.models import Model\n",
        "from keras.layers import Conv2D, MaxPooling2D, Dense, Flatten, Dropout, Activation\n",
        "from tensorflow.keras.preprocessing.image import ImageDataGenerator\n",
        "import matplotlib.pyplot as plt\n",
        "import matplotlib.image as mpimg\n",
        "import numpy as np\n",
        "import os"
      ],
      "execution_count": null,
      "outputs": []
    },
    {
      "cell_type": "code",
      "metadata": {
        "id": "i9agcQlj_ee7"
      },
      "source": [
        "from google.colab import drive\n",
        "drive.mount('/content/drive')"
      ],
      "execution_count": null,
      "outputs": []
    },
    {
      "cell_type": "code",
      "metadata": {
        "id": "EJB-UG8D_ZGS"
      },
      "source": [
        "# Parameter\n",
        "batch_size = 16\n",
        "dimension = (150, 150)\n",
        "epoch = 20"
      ],
      "execution_count": null,
      "outputs": []
    },
    {
      "cell_type": "code",
      "metadata": {
        "id": "jJWfnSWQ_egr"
      },
      "source": [
        "datagenerator = ImageDataGenerator(\n",
        "        rescale = 1./255,\n",
        "        zoom_range = 0.2,\n",
        "        shear_range = 0.2,\n",
        "        horizontal_flip = True,\n",
        ")\n",
        "\n",
        "train_generator = datagenerator.flow_from_directory(\n",
        "    directory = '/content/drive/MyDrive/Colab Notebooks/Data Pitaya(Validasi)/train',\n",
        "    target_size = dimension,\n",
        "    batch_size = batch_size,\n",
        "    class_mode = \"categorical\",\n",
        "    shuffle = True,\n",
        ")\n",
        "val_generator = datagenerator.flow_from_directory(\n",
        "    directory = '/content/drive/MyDrive/Colab Notebooks/Data Pitaya(Validasi)/validation',\n",
        "    target_size = dimension,\n",
        "    batch_size = batch_size,\n",
        "    class_mode = \"categorical\",\n",
        "    shuffle = True,\n",
        ")\n",
        "test_generator = datagenerator.flow_from_directory(\n",
        "    directory = '/content/drive/MyDrive/Colab Notebooks/Data Pitaya(Validasi)/test',\n",
        "    target_size = dimension,\n",
        "    batch_size = batch_size,\n",
        "    class_mode = \"categorical\",\n",
        "    shuffle = False,\n",
        ")\n",
        "\n",
        "num_class = train_generator.num_classes\n",
        "print(num_class)"
      ],
      "execution_count": null,
      "outputs": []
    },
    {
      "cell_type": "code",
      "metadata": {
        "id": "SwDZAZ1uJxF-"
      },
      "source": [
        "model = Sequential()\n",
        "\n",
        "model.add(Conv2D(32, (3, 3), activation='relu', input_shape=(150, 150, 3)))\n",
        "model.add(MaxPooling2D(pool_size=(2, 2)))\n",
        "model.add(Conv2D(64, (2, 2), activation='relu'))\n",
        "model.add(MaxPooling2D(pool_size=(2, 2)))\n",
        "model.add(Flatten())\n",
        "model.add(Dense(1024, activation='relu'))\n",
        "model.add(Dropout(0.5))\n",
        "model.add(Dense(num_class, activation='softmax'))\n",
        "\n",
        "# model.add(Conv2D(32, (3, 3), activation='relu', input_shape=(64, 64, 3)))\n",
        "# model.add(MaxPooling2D(pool_size=(2, 2), padding='same'))\n",
        "# model.add(Conv2D(64, (3, 3), activation='relu'))\n",
        "# model.add(MaxPooling2D(pool_size=(2, 2)))\n",
        "# model.add(Conv2D(128, (3, 3), activation='relu'))\n",
        "# model.add(MaxPooling2D(pool_size=(2, 2)))\n",
        "# model.add(Flatten())\n",
        "# model.add(Dense(64, activation='relu'))\n",
        "# model.add(Dropout(0.5))\n",
        "# model.add(Dense(num_class, activation='softmax'))\n",
        "\n",
        "\n",
        "# model.add(Conv2D(16, (3, 3), padding='same', activation='relu', input_shape=(64, 64, 3)))\n",
        "# model.add(MaxPooling2D())\n",
        "# model.add(Conv2D(32, (3, 3), padding='same', activation='relu'))\n",
        "# model.add(MaxPooling2D())\n",
        "# model.add(Conv2D(64, (3, 3), padding='same', activation='relu'))\n",
        "# model.add(MaxPooling2D())\n",
        "# model.add(Flatten())\n",
        "# model.add(Dense(128, activation='relu'))\n",
        "# model.add(Dense(num_class))\n"
      ],
      "execution_count": null,
      "outputs": []
    },
    {
      "cell_type": "code",
      "metadata": {
        "id": "EHRzIgEeeCqA"
      },
      "source": [
        "model.summary()"
      ],
      "execution_count": null,
      "outputs": []
    },
    {
      "cell_type": "code",
      "metadata": {
        "id": "wqilu0OT_hqV"
      },
      "source": [
        "model.compile(loss=\"categorical_crossentropy\",\n",
        "              optimizer=\"adam\",\n",
        "              metrics=['accuracy'])"
      ],
      "execution_count": null,
      "outputs": []
    },
    {
      "cell_type": "code",
      "metadata": {
        "id": "-2ssi33A_lE6"
      },
      "source": [
        "history = model.fit(train_generator,\n",
        "          validation_data = val_generator,\n",
        "          steps_per_epoch = len(train_generator),\n",
        "          validation_steps = len(val_generator),\n",
        "          epochs = epoch)\n"
      ],
      "execution_count": null,
      "outputs": []
    },
    {
      "cell_type": "code",
      "metadata": {
        "id": "J4APH4H2BF9E"
      },
      "source": [
        "# Save Model\n",
        "base_path = \"/content/drive/My Drive/Colab Notebooks/model\"\n",
        "project_name = \"pitaya\"\n",
        "model_name = \"model20_model2.h5\"\n",
        "model_path = os.path.join(base_path, project_name, model_name)\n",
        "\n",
        "if os.path.exists(os.path.join(base_path, project_name)) == False:\n",
        "    os.makedirs(os.path.join(base_path, project_name))\n",
        "    \n",
        "print('Saving Model At {}...'.format(model_path))\n",
        "model.save(model_path, include_optimizer = False)"
      ],
      "execution_count": null,
      "outputs": []
    },
    {
      "cell_type": "code",
      "metadata": {
        "id": "iYHUGW2_clPu"
      },
      "source": [
        "# model evaluate\n",
        "loss, acc = model.evaluate(test_generator, steps = len(test_generator))\n",
        "print('Accuracy pada data test: {:.4f} \\nLoss pada data training: {:.4f}'.format(acc, loss), '\\n')\n",
        "\n",
        "loss, acc = model.evaluate(test_generator, steps = len(test_generator))\n",
        "print('Accuracy pada data test: {:.4f} \\nLoss pada data test: {:.4f}'.format(acc, loss), '\\n')"
      ],
      "execution_count": null,
      "outputs": []
    }
  ]
}