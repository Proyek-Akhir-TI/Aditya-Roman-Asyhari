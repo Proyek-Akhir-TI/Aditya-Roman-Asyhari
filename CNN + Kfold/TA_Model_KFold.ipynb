{
  "nbformat": 4,
  "nbformat_minor": 0,
  "metadata": {
    "accelerator": "TPU",
    "colab": {
      "name": "TA_Model_KFold.ipynb",
      "provenance": [],
      "collapsed_sections": []
    },
    "kernelspec": {
      "display_name": "Python 3",
      "name": "python3"
    },
    "language_info": {
      "name": "python"
    }
  },
  "cells": [
    {
      "cell_type": "code",
      "metadata": {
        "id": "jmIdn0UYRqHb"
      },
      "source": [
        "import tensorflow as tf\n",
        "from keras.preprocessing.image import ImageDataGenerator\n",
        "from keras.preprocessing import image\n",
        "from tensorflow.keras.models import Sequential\n",
        "from tensorflow.keras import layers\n",
        "from tensorflow.keras.layers import Dense\n",
        "from tensorflow.keras.layers import Dropout\n",
        "from tensorflow.keras.layers import Flatten\n",
        "from tensorflow.keras.layers import Conv2D\n",
        "from tensorflow.keras.layers import MaxPooling2D\n",
        "from sklearn.metrics import accuracy_score, f1_score, precision_score\n",
        "from sklearn.model_selection import StratifiedKFold\n",
        "from PIL import Image\n",
        "import matplotlib.pyplot as plt\n",
        "import numpy as np\n",
        "import random\n",
        "import os\n",
        "import shutil\n",
        "import datetime\n",
        "\n",
        "%load_ext tensorboard"
      ],
      "execution_count": null,
      "outputs": []
    },
    {
      "cell_type": "code",
      "metadata": {
        "id": "qPM8NZw1JIhU"
      },
      "source": [
        "datasetFolderName='/content/drive/MyDrive/Colab Notebooks/Data Pitaya(Validasi)'\n",
        "sourceFiles=[]\n",
        "classLabels=['Bercak Merah', 'Busuk Batang', 'Busuk Hitam', 'Kudis', 'Mosaik']"
      ],
      "execution_count": null,
      "outputs": []
    },
    {
      "cell_type": "code",
      "metadata": {
        "id": "iEJRiubqVIYh"
      },
      "source": [
        "def transferBetweenFolders(source, dest, splitRate):   \n",
        "    global sourceFiles\n",
        "    # memasukkan listdir dari folder asal kedalam variabel array sourceFiles\n",
        "    sourceFiles=os.listdir(source)\n",
        "\n",
        "    # mengecek apakah ada data pada variabel sourceFiles\n",
        "    if(len(sourceFiles)!=0):\n",
        "        # jika ada data, kemudian menghitung total data yang akan di split, yaitu total sourceFiles x splitRate\n",
        "        # dan sisimpan pada variabel transferFileNumbers\n",
        "        transferFileNumbers=int(len(sourceFiles)*splitRate)\n",
        "        # kemudian mengambil index data secara random/acak dengan jumlah data sesuai variabel transferFileNumbers \n",
        "        transferIndex=random.sample(range(0, len(sourceFiles)), transferFileNumbers)\n",
        "\n",
        "        # kemudian memindahkan data citra sesuai indexnya dari folder source ke folder dest\n",
        "        for eachIndex in transferIndex:\n",
        "            shutil.move(source+str(sourceFiles[eachIndex]), dest+str(sourceFiles[eachIndex]))\n",
        "    else:\n",
        "        print(\"No file moved. Source empty!\")\n",
        "        \n",
        "def transferAllClassBetweenFolders(source, dest, splitRate):\n",
        "    for label in classLabels:\n",
        "        transferBetweenFolders(datasetFolderName+'/'+source+'/'+label+'/', \n",
        "                               datasetFolderName+'/'+dest+'/'+label+'/', \n",
        "                               splitRate)"
      ],
      "execution_count": null,
      "outputs": []
    },
    {
      "cell_type": "code",
      "metadata": {
        "id": "wFe4YLiTLS4Q"
      },
      "source": [
        "# Pertama, periksa apakah folder test kosong atau tidak,\n",
        "# jika tidak transfer semua file yang ada ke folder train\n",
        "transferAllClassBetweenFolders('test', 'train', 1.0)\n",
        "\n",
        "# Sekarang, bagi data train ke dalam folder test.\n",
        "transferAllClassBetweenFolders('train', 'test', 0.20)"
      ],
      "execution_count": null,
      "outputs": []
    },
    {
      "cell_type": "code",
      "metadata": {
        "id": "XOpRTo_RcFgC"
      },
      "source": [
        "X=[]\n",
        "Y=[]\n",
        " \n",
        "def prepareNameWithLabels(folderName):\n",
        "    sourceFiles=os.listdir(datasetFolderName+'/train/'+folderName)\n",
        "    for val in sourceFiles:\n",
        "        X.append(val)\n",
        "        if(folderName==classLabels[0]):\n",
        "            Y.append(0)\n",
        "        elif(folderName==classLabels[1]):\n",
        "            Y.append(1)\n",
        "        elif(folderName==classLabels[2]):\n",
        "            Y.append(2)\n",
        "        elif(folderName==classLabels[3]):\n",
        "            Y.append(3)\n",
        "        else:\n",
        "            Y.append(4)\n",
        " \n",
        "# Atur nama file dan label kelas dalam variabel X dan Y.\n",
        "prepareNameWithLabels(classLabels[0])\n",
        "prepareNameWithLabels(classLabels[1])\n",
        "prepareNameWithLabels(classLabels[2])\n",
        "prepareNameWithLabels(classLabels[3])       \n",
        "prepareNameWithLabels(classLabels[4])       \n",
        " \n",
        "X=np.asarray(X)\n",
        "Y=np.asarray(Y)\n",
        " \n",
        "print(X)\n",
        "print(Y)"
      ],
      "execution_count": null,
      "outputs": []
    },
    {
      "cell_type": "code",
      "metadata": {
        "colab": {
          "base_uri": "https://localhost:8080/"
        },
        "id": "fz1rk821dWjW",
        "outputId": "1504b40d-7f98-4c81-8cc2-e7b7251bd12e"
      },
      "source": [
        "train_path = datasetFolderName+'/train/'\n",
        "validation_path = datasetFolderName+'/validation/'\n",
        "test_path = datasetFolderName+'/test/'\n",
        " \n",
        "num_class = len(classLabels)\n",
        "print(num_class)"
      ],
      "execution_count": null,
      "outputs": [
        {
          "name": "stdout",
          "output_type": "stream",
          "text": [
            "5\n"
          ]
        }
      ]
    },
    {
      "cell_type": "code",
      "metadata": {
        "id": "rxOxT73td7SA"
      },
      "source": [
        "model = Sequential()\n",
        " \n",
        "model.add(Conv2D(16, (3, 3), activation='relu', input_shape=(150, 150, 3)))\n",
        "model.add(MaxPooling2D(pool_size=(2, 2)))\n",
        "model.add(Conv2D(32, (3, 3), activation='relu'))\n",
        "model.add(MaxPooling2D(pool_size=(2, 2)))\n",
        "model.add(Conv2D(64, (3, 3), activation='relu'))\n",
        "model.add(MaxPooling2D(pool_size=(2, 2)))\n",
        "model.add(Conv2D(128, (3, 3), activation='relu'))\n",
        "model.add(MaxPooling2D(pool_size=(2, 2)))\n",
        " \n",
        "model.add(Flatten())\n",
        "model.add(Dense(256, activation='relu'))\n",
        "model.add(Dropout(0.5))\n",
        "model.add(Dense(5, activation='softmax'))"
      ],
      "execution_count": null,
      "outputs": []
    },
    {
      "cell_type": "code",
      "metadata": {
        "id": "MPl5fKnp6nzw"
      },
      "source": [
        "tf.keras.utils.plot_model(\n",
        "    model,\n",
        "    to_file=\"model.png\",\n",
        "    show_shapes=True,\n",
        "    show_dtype=True,\n",
        "    show_layer_names=True,\n",
        "    rankdir=\"TB\",\n",
        "    expand_nested=True,\n",
        "    dpi=96,\n",
        ")\n"
      ],
      "execution_count": null,
      "outputs": []
    },
    {
      "cell_type": "code",
      "metadata": {
        "id": "y_RqGLiP6-8c"
      },
      "source": [
        "model.compile(\n",
        "    loss=\"categorical_crossentropy\",\n",
        "    optimizer=\"adam\",\n",
        "    metrics=['accuracy']\n",
        ")"
      ],
      "execution_count": null,
      "outputs": []
    },
    {
      "cell_type": "code",
      "metadata": {
        "id": "gib_YTsbTzcN"
      },
      "source": [
        "datagen = ImageDataGenerator(\n",
        "        rescale = 1./255,\n",
        "        zoom_range = 0.2,\n",
        "        shear_range = 0.2,\n",
        "        horizontal_flip = True,\n",
        ")"
      ],
      "execution_count": null,
      "outputs": []
    },
    {
      "cell_type": "code",
      "metadata": {
        "colab": {
          "background_save": true
        },
        "id": "hucK1W92efcn"
      },
      "source": [
        "skf = StratifiedKFold(n_splits = 5, shuffle = True)\n",
        "skf.get_n_splits(X, Y)\n",
        "foldNum = 0\n",
        "epoch = 5\n",
        " \n",
        "for train_index, val_index in skf.split(X, Y):\n",
        "    # Pindahkan semua data dari folder validation ke folder train\n",
        "    transferAllClassBetweenFolders('validation', 'train', 1.0)\n",
        "    foldNum+=1\n",
        "    print(\"Hasil untuk Fold ke \",foldNum)\n",
        "    X_train, X_val = X[train_index], X[val_index]\n",
        "    Y_train, Y_val = Y[train_index], Y[val_index]\n",
        "    # Pindahkan data sesuai index dan fold dari folder train ke validation\n",
        "    for eachIndex in range(len(X_val)):\n",
        "        classLabel=''\n",
        "        if(Y_val[eachIndex]==0):\n",
        "            classLabel=classLabels[0]\n",
        "        elif(Y_val[eachIndex]==1):\n",
        "            classLabel=classLabels[1]\n",
        "        elif(Y_val[eachIndex]==2):\n",
        "            classLabel=classLabels[2]\n",
        "        elif(Y_val[eachIndex]==3):\n",
        "            classLabel=classLabels[3]\n",
        "        else:\n",
        "            classLabel=classLabels[4]   \n",
        "        #Kemudian, pindahkan gambar validasi ke folder validation\n",
        "        shutil.move(datasetFolderName+'/train/'+classLabel+'/'+X_val[eachIndex], \n",
        "                    datasetFolderName+'/validation/'+classLabel+'/'+X_val[eachIndex])\n",
        "        \n",
        "    #preprocessing\n",
        "    train_generator = datagen.flow_from_directory(\n",
        "        directory = train_path,\n",
        "        target_size = (150, 150),\n",
        "        batch_size = 16,\n",
        "        class_mode = 'categorical',\n",
        "    )\n",
        " \n",
        "    val_generator = datagen.flow_from_directory(\n",
        "            directory = validation_path,\n",
        "            target_size = (150, 150),\n",
        "            batch_size = 16,\n",
        "            class_mode = 'categorical',\n",
        "    )   \n",
        "   \n",
        "    # fit model\n",
        "    history = model.fit(\n",
        "        train_generator,\n",
        "        steps_per_epoch = len(train_generator),\n",
        "        validation_data = val_generator,\n",
        "        validation_steps = len(val_generator),\n",
        "        epochs = epoch,\n",
        "        verbose = 1,\n",
        "    )"
      ],
      "execution_count": null,
      "outputs": []
    },
    {
      "cell_type": "code",
      "metadata": {
        "id": "j-JM-FuHjA9o"
      },
      "source": [
        "# Save Model\n",
        "base_path = \"/content/drive/My Drive/Colab Notebooks/model\"\n",
        "project_name = \"pitaya\"\n",
        "model_name = \"pitaya_modelKFold5_Epoch5_validasi.h5\"\n",
        "model_path = os.path.join(base_path, project_name, model_name)\n",
        "model.save(model_path, include_optimizer = False)"
      ],
      "execution_count": null,
      "outputs": []
    },
    {
      "cell_type": "code",
      "metadata": {
        "id": "ncB_g0p-GT7G"
      },
      "source": [
        "def my_metrics(y_true, y_pred):\n",
        "    accuracy = accuracy_score(y_true, y_pred)\n",
        "    precision = precision_score(y_true, y_pred,average='weighted')\n",
        "    f1Score = f1_score(y_true, y_pred, average='weighted') \n",
        "    print(\"Accuracy  : {}\".format(accuracy))\n",
        "    print(\"Precision : {}\".format(precision))\n",
        "    print(\"F1Score : {}\".format(f1Score))"
      ],
      "execution_count": null,
      "outputs": []
    },
    {
      "cell_type": "code",
      "metadata": {
        "id": "BdOHU63vhuZa"
      },
      "source": [
        "# =============TESTING============\n",
        "from tensorflow.keras.models import load_model\n",
        "\n",
        "# load model\n",
        "MODEL_PATH = '/content/drive/MyDrive/Colab Notebooks/model/pitaya/pitaya_modelKFold5_Epoch5_validasi.h5'\n",
        "model = load_model(MODEL_PATH, compile = True)\n",
        "\n",
        "test = '/content/drive/MyDrive/Colab Notebooks/Data Pitaya(Validasi)/test'\n",
        "\n",
        "test_generator = datagen.flow_from_directory(\n",
        "        directory = test,\n",
        "        target_size=(150, 150),\n",
        "        batch_size = 1,\n",
        "        class_mode = 'categorical',\n",
        "        shuffle = False\n",
        ") \n",
        "\n",
        "predictions = model.predict(test_generator, verbose=1)\n",
        "yPredictions = np.argmax(predictions, axis=1)\n",
        "true_classes = test_generator.classes\n",
        "\n",
        "print(\"\\nHasil Sebenarnya Data Test\\n{}\".format(true_classes))\n",
        "print(\"\\nHasil Prediksi Data Test\\n{}\\n\".format(yPredictions))\n",
        "my_metrics(true_classes, yPredictions)"
      ],
      "execution_count": null,
      "outputs": []
    },
    {
      "cell_type": "code",
      "metadata": {
        "id": "LIiSxfUeWwRl"
      },
      "source": [
        "# ================================================================================================================="
      ],
      "execution_count": null,
      "outputs": []
    },
    {
      "cell_type": "code",
      "metadata": {
        "id": "aZz0QM6bWwM9"
      },
      "source": [
        "# Ending"
      ],
      "execution_count": null,
      "outputs": []
    },
    {
      "cell_type": "code",
      "metadata": {
        "id": "hQfoEV6SW7bt"
      },
      "source": [
        "# ==================================================================================================================="
      ],
      "execution_count": null,
      "outputs": []
    },
    {
      "cell_type": "code",
      "metadata": {
        "id": "_VgtC5OBWwJr"
      },
      "source": [
        ""
      ],
      "execution_count": null,
      "outputs": []
    },
    {
      "cell_type": "code",
      "metadata": {
        "id": "j9-hNEWxwr7V"
      },
      "source": [
        "# def my_metrics(y_true, y_pred):\n",
        "    # accuracy = accuracy_score(y_true, y_pred)\n",
        "    # precision = precision_score(y_true, y_pred,average='weighted')\n",
        "    # f1Score = f1_score(y_true, y_pred, average='weighted') \n",
        "    # cm = confusion_matrix(y_true, y_pred)\n",
        "    # print(\"Accuracy  : {}\".format(accuracy))\n",
        "    # print(\"Precision : {}\".format(precision))\n",
        "    # print(\"F1Score : {}\".format(f1Score))\n",
        "    # print(\"Confusion Matrix : \\n{}\".format(cm))\n",
        "    # return accuracy, precision, f1Score\n",
        "\n",
        "# print(\"============== HASIL TESTING MODEL ==============\\nTotal {} Citra dari {} Kategori\".format(len(test_generator), num_class))\n",
        "# print(\"Kategori 0 - 5 : {}\".format(classLabels))\n",
        "# testAcc, testPrec, testFScore, testCm = my_metrics(true_classes, yPredictions)\n",
        "# print(\"\\nHasil Sebenarnya Data Test\\n{}\".format(true_classes))\n",
        "# print(\"\\nHasil Prediksi Data Test\\n{}\\n\".format(yPredictions))\n",
        "# my_metrics(true_classes, yPredictions)"
      ],
      "execution_count": null,
      "outputs": []
    },
    {
      "cell_type": "code",
      "metadata": {
        "id": "Gqo39eKtUvSj"
      },
      "source": [
        "from tensorboard import notebook\n",
        "notebook.list()"
      ],
      "execution_count": null,
      "outputs": []
    },
    {
      "cell_type": "code",
      "metadata": {
        "id": "pOyO7MD7UwaV"
      },
      "source": [
        "notebook.display(port=6006, height=1000) "
      ],
      "execution_count": null,
      "outputs": []
    },
    {
      "cell_type": "code",
      "metadata": {
        "id": "0ZMYZwWRrHrV"
      },
      "source": [
        "\n",
        "acc = history.history['accuracy']\n",
        "val_acc = history.history['val_accuracy']\n",
        "loss = history.history['loss']\n",
        "val_loss = history.history['val_loss']\n",
        "epochs_range = range(5)\n",
        "\n",
        "plt.figure(figsize=(8, 4))\n",
        "\n",
        "plt.subplot(1, 2, 1)\n",
        "plt.plot(epochs_range, acc, label='Training Accuracy')\n",
        "plt.plot(epochs_range, val_acc, label='Validation Accuracy')\n",
        "plt.legend(loc='lower right')\n",
        "plt.title('Training and Validation Accuracy')\n",
        "plt.subplot(1, 2, 2)\n",
        "\n",
        "plt.plot(epochs_range, loss, label='Training Loss')\n",
        "plt.plot(epochs_range, val_loss, label='Validation Loss')\n",
        "plt.legend(loc='upper right')\n",
        "plt.title('Training and Validation Loss')\n",
        "plt.show()"
      ],
      "execution_count": null,
      "outputs": []
    },
    {
      "cell_type": "code",
      "metadata": {
        "id": "Wedm2N4VIaRW"
      },
      "source": [
        "image_path= r\"/content/drive/MyDrive/Colab Notebooks/Data Pitaya/test/Busuk Batang/DSC07657.jpg\"\n",
        "img = image.load_img(image_path, target_size=(150, 150))  \n",
        "input = image.img_to_array(img)                           \n",
        "input = input.reshape((1,) + input.shape)                   \n",
        "input /= 255.0"
      ],
      "execution_count": null,
      "outputs": []
    },
    {
      "cell_type": "code",
      "metadata": {
        "colab": {
          "base_uri": "https://localhost:8080/",
          "height": 286
        },
        "id": "QtsL94t_lkMi",
        "outputId": "5cc184ba-77d1-4e2d-e13d-fd9355476797"
      },
      "source": [
        "\n",
        "image_path = '/content/drive/MyDrive/Colab Notebooks/Data Pitaya/test/Busuk Batang/DSC07657.jpg'\n",
        "\n",
        "img = image.load_img(image_path, target_size = (150, 150))\n",
        "img_tensor = image.img_to_array(img)\n",
        "img_tensor = np.expand_dims(img_tensor, axis = 0)\n",
        "img_tensor = img_tensor / 255.\n",
        "\n",
        "# Print image tensor shape\n",
        "print(img_tensor.shape)\n",
        "\n",
        "# Print image\n",
        "plt.imshow(img_tensor[0])\n",
        "plt.show()\n"
      ],
      "execution_count": null,
      "outputs": [
        {
          "name": "stdout",
          "output_type": "stream",
          "text": [
            "(1, 150, 150, 3)\n"
          ]
        },
        {
          "data": {
            "image/png": "[encoded data removed]",
            "text/plain": [
              "<Figure size 432x288 with 1 Axes>"
            ]
          },
          "metadata": {
            "tags": []
          },
          "output_type": "display_data"
        }
      ]
    },
    {
      "cell_type": "code",
      "metadata": {
        "id": "NNkkOXoi-7HQ"
      },
      "source": [
        "layer_names = [layer.name for layer in model.layers]\n",
        "layer_names"
      ],
      "execution_count": null,
      "outputs": []
    },
    {
      "cell_type": "code",
      "metadata": {
        "id": "vZqGIwXB_BzS"
      },
      "source": [
        "layer_outputs = [layer.output for layer in model.layers]\n",
        "feature_map_model = tf.keras.models.Model(model.input, layer_outputs)"
      ],
      "execution_count": null,
      "outputs": []
    },
    {
      "cell_type": "code",
      "metadata": {
        "id": "xmrG_8Vx_zug"
      },
      "source": [
        "feature_maps = feature_map_model.predict(img_tensor)"
      ],
      "execution_count": null,
      "outputs": []
    },
    {
      "cell_type": "code",
      "metadata": {
        "colab": {
          "base_uri": "https://localhost:8080/"
        },
        "id": "pempLQh9AEBR",
        "outputId": "e9358276-1312-4c66-9556-df40db3b3e10"
      },
      "source": [
        "for layer_name, feature_map in zip(layer_names, feature_maps):\n",
        "    print(f\"The shape of the {layer_name} is =======>> {feature_map.shape}\")"
      ],
      "execution_count": null,
      "outputs": [
        {
          "name": "stdout",
          "output_type": "stream",
          "text": [
            "The shape of the conv2d is =======>> (1, 148, 148, 16)\n",
            "The shape of the max_pooling2d is =======>> (1, 74, 74, 16)\n",
            "The shape of the conv2d_1 is =======>> (1, 72, 72, 32)\n",
            "The shape of the max_pooling2d_1 is =======>> (1, 36, 36, 32)\n",
            "The shape of the conv2d_2 is =======>> (1, 34, 34, 64)\n",
            "The shape of the max_pooling2d_2 is =======>> (1, 17, 17, 64)\n",
            "The shape of the conv2d_3 is =======>> (1, 15, 15, 64)\n",
            "The shape of the max_pooling2d_3 is =======>> (1, 7, 7, 64)\n"
          ]
        }
      ]
    },
    {
      "cell_type": "code",
      "metadata": {
        "id": "Mt7XnXLuAQQr"
      },
      "source": [
        "for layer_name, feature_map in zip(layer_names, feature_maps):  \n",
        "  global image_belt\n",
        "  if len(feature_map.shape) == 4 :\n",
        "      k = feature_map.shape[-1]  \n",
        "      size = feature_map.shape[1]\n",
        "      # print(k)\n",
        "      # print(size)\n",
        "      # print(\"\")\n",
        "      for i in range(k):\n",
        "        feature_image = feature_map[0, :, :, i]\n",
        "        scale = 20 / k\n",
        "        plt.figure(figsize=(scale * k, scale))\n",
        "        plt.title(layer_name)\n",
        "        plt.grid(False)\n",
        "        plt.imshow( feature_image, aspect='auto')\n"
      ],
      "execution_count": null,
      "outputs": []
    },
    {
      "cell_type": "code",
      "metadata": {
        "id": "f0j-f05-AD7-"
      },
      "source": [
        ""
      ],
      "execution_count": null,
      "outputs": []
    },
    {
      "cell_type": "code",
      "metadata": {
        "id": "XwYwlbUClwr0"
      },
      "source": [
        "# Outputs of the 8 layers, which include conv2D and max pooling layers\n",
        "layer_outputs = [layer.output for layer in model.layers[:8]]\n",
        "activation_model = tf.keras.models.Model(model.input, layer_outputs)\n",
        "activations = activation_model.predict(img_tensor)\n",
        "\n",
        "for a in range(len(activations)) :\n",
        "  layer_activation = activations[a]\n",
        "  print(layer_activation.shape)\n",
        "\n",
        "  for i in range(a):\n",
        "    plt.matshow(layer_activation[0, :, :, i], cmap ='viridis')\n"
      ],
      "execution_count": null,
      "outputs": []
    },
    {
      "cell_type": "code",
      "metadata": {
        "id": "EgppqZm0l_06"
      },
      "source": [
        "layer_names = []\n",
        "\n",
        "for layer in model.layers[:8]:\n",
        "  layer_names.append(layer.name)\n",
        "  print(layer_names)\n"
      ],
      "execution_count": null,
      "outputs": []
    },
    {
      "cell_type": "code",
      "metadata": {
        "colab": {
          "base_uri": "https://localhost:8080/"
        },
        "id": "aQoT8o5RUhuJ",
        "outputId": "4bf770c9-8608-49b5-8d01-7cc1b97d6f46"
      },
      "source": [
        "!pip install keract"
      ],
      "execution_count": null,
      "outputs": [
        {
          "name": "stdout",
          "output_type": "stream",
          "text": [
            "Collecting keract\n",
            "  Downloading keract-4.5.0-py2.py3-none-any.whl (12 kB)\n",
            "Installing collected packages: keract\n",
            "Successfully installed keract-4.5.0\n"
          ]
        }
      ]
    },
    {
      "cell_type": "code",
      "metadata": {
        "id": "YgsX-sKCUhro"
      },
      "source": [
        "from keract import display_activations, get_activations, display_heatmaps\n",
        "from tensorflow.keras.models import load_model\n",
        "\n",
        "MODEL_PATH = '/content/drive/MyDrive/Colab Notebooks/model/pitaya/pitaya_modelKFold5_Epoch5.h5'\n",
        "model = load_model(MODEL_PATH, compile = False)\n",
        "\n",
        "lay_activations = get_activations(model, img_tensor)"
      ],
      "execution_count": null,
      "outputs": []
    },
    {
      "cell_type": "code",
      "metadata": {
        "colab": {
          "base_uri": "https://localhost:8080/"
        },
        "id": "tWVV9ByzsrQH",
        "outputId": "21a7085e-eb17-4e18-c913-7bc0bc9cc8ac"
      },
      "source": [
        "display_activations(lay_activations, save=True)"
      ],
      "execution_count": null,
      "outputs": [
        {
          "name": "stdout",
          "output_type": "stream",
          "text": [
            "conv2d_input (1, 150, 150, 3) \n",
            "conv2d (1, 148, 148, 16) \n",
            "max_pooling2d (1, 74, 74, 16) \n",
            "conv2d_1 (1, 72, 72, 32) \n",
            "max_pooling2d_1 (1, 36, 36, 32) \n",
            "conv2d_2 (1, 34, 34, 64) \n",
            "max_pooling2d_2 (1, 17, 17, 64) \n",
            "conv2d_3 (1, 15, 15, 64) \n",
            "max_pooling2d_3 (1, 7, 7, 64) \n",
            "flatten (1, 3136) \n",
            "dense (1, 256) \n",
            "dropout (1, 256) \n",
            "dense_1 (1, 6) \n"
          ]
        }
      ]
    },
    {
      "cell_type": "code",
      "metadata": {
        "id": "8tU9sheBfVoq"
      },
      "source": [
        "display_heatmaps(lay_activations, img_tensor, save=False)\n"
      ],
      "execution_count": null,
      "outputs": []
    },
    {
      "cell_type": "code",
      "metadata": {
        "id": "JzKkvBYcBefb"
      },
      "source": [
        ""
      ],
      "execution_count": null,
      "outputs": []
    },
    {
      "cell_type": "code",
      "metadata": {
        "id": "xWAaEGzTfWCv"
      },
      "source": [
        "test_generator = datagen.flow_from_directory(\n",
        "    directory = test_path,\n",
        "    target_size=(150, 150),\n",
        "    batch_size=1,\n",
        "    save_to_dir=\"/content/drive/MyDrive/Colab Notebooks/Data Pitaya/output-preprocessing\",\n",
        "    save_prefix=\"\",\n",
        "    save_format='png',\n",
        "    class_mode = 'categorical',\n",
        "    shuffle = False\n",
        ") \n",
        "\n",
        "for _ in range(1):\n",
        "    img, label = test_generator.next()\n",
        "    print(img.shape)\n",
        "    plt.imshow(img[0])\n",
        "    plt.show()"
      ],
      "execution_count": null,
      "outputs": []
    }
  ]
}